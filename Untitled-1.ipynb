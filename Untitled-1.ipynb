{
 "cells": [
  {
   "cell_type": "code",
   "execution_count": 1,
   "metadata": {},
   "outputs": [],
   "source": [
    "import dask.array as da\n",
    "from pathlib import Path\n",
    "\n",
    "# notebook\n",
    "import stitch_utils\n",
    "import io_utils\n",
    "\n",
    "# notebook reload\n",
    "%load_ext autoreload\n",
    "%autoreload 2\n",
    "\n",
    "bucket_name = \"aind-open-data\""
   ]
  },
  {
   "cell_type": "code",
   "execution_count": null,
   "metadata": {},
   "outputs": [],
   "source": [
    "save_dir = Path(f'/home/matt.davis/code/hcr-stich/xml_data/')\n",
    "xmls = io_utils.get_thyme_xmls()"
   ]
  },
  {
   "cell_type": "code",
   "execution_count": null,
   "metadata": {},
   "outputs": [],
   "source": [
    "round_n = 1\n",
    "xml_path = Path(save_dir / xmls[round_n][\"spot\"])\n",
    "print(xml_path)\n",
    "data = stitch_utils.parse_bigstitcher_xml(xml_path)"
   ]
  }
 ],
 "metadata": {
  "kernelspec": {
   "display_name": ".venv",
   "language": "python",
   "name": "python3"
  },
  "language_info": {
   "codemirror_mode": {
    "name": "ipython",
    "version": 3
   },
   "file_extension": ".py",
   "mimetype": "text/x-python",
   "name": "python",
   "nbconvert_exporter": "python",
   "pygments_lexer": "ipython3",
   "version": "3.11.11"
  }
 },
 "nbformat": 4,
 "nbformat_minor": 2
}
